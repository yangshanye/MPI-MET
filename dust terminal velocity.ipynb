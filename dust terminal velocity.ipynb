{
 "cells": [
  {
   "cell_type": "code",
   "execution_count": 3,
   "id": "9fda3cba-ccea-4061-8f62-d513b885ea12",
   "metadata": {
    "tags": []
   },
   "outputs": [
    {
     "data": {
      "text/plain": [
       "30.074364640883974"
      ]
     },
     "execution_count": 3,
     "metadata": {},
     "output_type": "execute_result"
    }
   ],
   "source": [
    "import math\n",
    "\n",
    "\n",
    "diameter = 0.001  # meters\n",
    "density_particle = 1000  # kg/m^3\n",
    "density_air = 1.2  # kg/m^3\n",
    "viscosity_air = 1.81e-5  # Kg/(m*s)\n",
    "g = 9.81 # m/s^2\n",
    "radius = diameter / 2\n",
    "\n",
    "# Using Stokes' Law\n",
    "terminal_velocity = (g * diameter**2 * (density_particle - density_air)) / (18* viscosity_air)\n",
    "terminal_velocity\n"
   ]
  },
  {
   "cell_type": "code",
   "execution_count": 5,
   "id": "cba757a9-1908-4e97-8f96-8a2bffb8277d",
   "metadata": {
    "tags": []
   },
   "outputs": [
    {
     "data": {
      "text/plain": [
       "4.8157542879285415"
      ]
     },
     "execution_count": 5,
     "metadata": {},
     "output_type": "execute_result"
    }
   ],
   "source": [
    "Cd = 0.47  # Drag coefficient for a sphere\n",
    "area = math.pi * radius**2\n",
    "mass = density_particle * math.pi/6 * diameter**3\n",
    "\n",
    "# Using the drag coefficient formula\n",
    "terminal_velocity_drag = math.sqrt((2 * mass * g) / (density_air * area * Cd))\n",
    "terminal_velocity_drag"
   ]
  },
  {
   "cell_type": "code",
   "execution_count": 6,
   "id": "b8e6b7f4-0e5c-4f31-8349-4a8b27ef4951",
   "metadata": {
    "tags": []
   },
   "outputs": [
    {
     "data": {
      "text/plain": [
       "4.812863967999521"
      ]
     },
     "execution_count": 6,
     "metadata": {},
     "output_type": "execute_result"
    }
   ],
   "source": [
    "Cd = 0.47  # Drag coefficient for a sphere\n",
    "area = math.pi * radius**2\n",
    "mass = density_particle * math.pi/6 * diameter**3\n",
    "\n",
    "# Using the drag coefficient formula\n",
    "terminal_velocity_drag = math.sqrt((4 * diameter * g) *((density_particle-density_air)/density_air) / (3 * Cd))\n",
    "terminal_velocity_drag"
   ]
  },
  {
   "cell_type": "code",
   "execution_count": null,
   "id": "429d1988-07d8-46d2-9293-3d86ff856eac",
   "metadata": {},
   "outputs": [],
   "source": []
  }
 ],
 "metadata": {
  "kernelspec": {
   "display_name": "Python 3 (based on the module python3/2023.01)",
   "language": "python",
   "name": "python3_2023_01"
  },
  "language_info": {
   "codemirror_mode": {
    "name": "ipython",
    "version": 3
   },
   "file_extension": ".py",
   "mimetype": "text/x-python",
   "name": "python",
   "nbconvert_exporter": "python",
   "pygments_lexer": "ipython3",
   "version": "3.10.10"
  }
 },
 "nbformat": 4,
 "nbformat_minor": 5
}
