{
 "cells": [
  {
   "cell_type": "markdown",
   "id": "31232f8f-aca8-4cd7-962d-31563cf83447",
   "metadata": {},
   "source": [
    "https://www.analyticsvidhya.com/blog/2020/09/colormaps-matplotlib/"
   ]
  },
  {
   "cell_type": "code",
   "execution_count": 5,
   "id": "17c5cbcb-0394-447f-ab26-24c0f6a0160e",
   "metadata": {},
   "outputs": [],
   "source": [
    "import matplotlib.pyplot as plt\n",
    "import matplotlib as mpl"
   ]
  },
  {
   "cell_type": "code",
   "execution_count": 9,
   "id": "ea2daa88-d36b-4641-a6cd-f1284e1d9fdb",
   "metadata": {},
   "outputs": [],
   "source": [
    "from matplotlib import cm\n",
    "from matplotlib.colors import ListedColormap,LinearSegmentedColormap\n",
    "import numpy as np"
   ]
  },
  {
   "cell_type": "code",
   "execution_count": null,
   "id": "939c2ddb-5358-4577-b6b9-36b640f611cb",
   "metadata": {},
   "outputs": [],
   "source": [
    "#1"
   ]
  },
  {
   "cell_type": "code",
   "execution_count": null,
   "id": "7d71e5ce-b38a-4b51-ac0f-d0ad0acedac6",
   "metadata": {},
   "outputs": [],
   "source": [
    "new_inferno = cm.get_cmap('inferno', 5)# visualize with the new_inferno colormaps"
   ]
  },
  {
   "cell_type": "code",
   "execution_count": 7,
   "id": "adc8f41b-6127-4f4d-abab-491cbf4e73e5",
   "metadata": {},
   "outputs": [
    {
     "data": {
      "image/png": "[encoded data removed]",
      "text/plain": [
       "<Figure size 432x288 with 1 Axes>"
      ]
     },
     "metadata": {
      "needs_background": "light"
     },
     "output_type": "display_data"
    }
   ],
   "source": [
    "\n",
    "fig = plt.figure()\n",
    "ax = fig.add_axes([0.05, 0.80, 0.9, 0.1])\n",
    "\n",
    "cb = mpl.colorbar.ColorbarBase(ax, orientation='horizontal', \n",
    "                               cmap=new_inferno)\n",
    "\n",
    "plt.savefig('just_colorbar', bbox_inches='tight')"
   ]
  },
  {
   "cell_type": "code",
   "execution_count": null,
   "id": "575363e7-0365-4178-a274-35a41434e165",
   "metadata": {},
   "outputs": [],
   "source": [
    "#2 modifying the range color in a colormap"
   ]
  },
  {
   "cell_type": "code",
   "execution_count": 39,
   "id": "bc9c0785-fd00-444e-b46b-8c836f1ff994",
   "metadata": {},
   "outputs": [
    {
     "data": {
      "image/png": "[encoded data removed]",
      "text/plain": [
       "<Figure size 432x288 with 1 Axes>"
      ]
     },
     "metadata": {
      "needs_background": "light"
     },
     "output_type": "display_data"
    }
   ],
   "source": [
    "fig = plt.figure()\n",
    "ax = fig.add_axes([0.05, 0.80, 0.9, 0.1])\n",
    "\n",
    "cb = mpl.colorbar.ColorbarBase(ax, orientation='horizontal', \n",
    "                               cmap='hsv')"
   ]
  },
  {
   "cell_type": "code",
   "execution_count": 10,
   "id": "d5a922be-724e-4aaa-b3cf-ad6b8180ff22",
   "metadata": {},
   "outputs": [],
   "source": [
    "hsv_modified = cm.get_cmap('hsv', 256)# create new hsv colormaps in range of 0.3 (green) to 0.7 (blue)\n",
    "newcmp = ListedColormap(hsv_modified(np.linspace(0.3, 0.7, 256)))# show figure"
   ]
  },
  {
   "cell_type": "code",
   "execution_count": 12,
   "id": "7c24e8c5-3585-4f46-96d7-026addad0aaf",
   "metadata": {},
   "outputs": [
    {
     "data": {
      "image/png": "[encoded data removed]",
      "text/plain": [
       "<Figure size 432x288 with 1 Axes>"
      ]
     },
     "metadata": {
      "needs_background": "light"
     },
     "output_type": "display_data"
    }
   ],
   "source": [
    "fig = plt.figure()\n",
    "ax = fig.add_axes([0.05, 0.80, 0.9, 0.1])\n",
    "\n",
    "cb = mpl.colorbar.ColorbarBase(ax, orientation='horizontal', \n",
    "                               cmap=newcmp)"
   ]
  },
  {
   "cell_type": "code",
   "execution_count": 15,
   "id": "fe12421e-abc7-4d88-b020-b068c355e169",
   "metadata": {},
   "outputs": [],
   "source": [
    "#3 combine"
   ]
  },
  {
   "cell_type": "code",
   "execution_count": 16,
   "id": "51647661-dd3c-45e0-8394-4c38e9a39415",
   "metadata": {},
   "outputs": [],
   "source": [
    "# define top and bottom colormaps \n",
    "top = cm.get_cmap('Oranges_r', 128) # r means reversed version\n",
    "bottom = cm.get_cmap('Blues', 128)# combine it all\n",
    "newcolors = np.vstack((top(np.linspace(0, 1, 128)),\n",
    "                       bottom(np.linspace(0, 1, 128))))# create a new colormaps with a name of OrangeBlue\n",
    "orange_blue = ListedColormap(newcolors, name='OrangeBlue')"
   ]
  },
  {
   "cell_type": "code",
   "execution_count": 17,
   "id": "6c9467c6-f273-4874-a077-8b2a836dc39c",
   "metadata": {},
   "outputs": [
    {
     "data": {
      "image/png": "[encoded data removed]",
      "text/plain": [
       "<Figure size 432x288 with 1 Axes>"
      ]
     },
     "metadata": {
      "needs_background": "light"
     },
     "output_type": "display_data"
    }
   ],
   "source": [
    "fig = plt.figure()\n",
    "ax = fig.add_axes([0.05, 0.80, 0.9, 0.1])\n",
    "\n",
    "cb = mpl.colorbar.ColorbarBase(ax, orientation='horizontal', \n",
    "                               cmap=orange_blue)"
   ]
  },
  {
   "cell_type": "code",
   "execution_count": 18,
   "id": "0a8ec3fd-023d-463b-a48a-e53739a0abfd",
   "metadata": {},
   "outputs": [],
   "source": [
    "#4 practise"
   ]
  },
  {
   "cell_type": "code",
   "execution_count": 35,
   "id": "139c5a1e-b78e-4c5e-9736-b54ef840cedb",
   "metadata": {},
   "outputs": [],
   "source": [
    "# define top and bottom colormaps \n",
    "top = cm.get_cmap('jet', 128) # r means reversed version\n",
    "bottom = cm.get_cmap('hsv_r', 128)# combine it all\n",
    "newcolors = np.vstack((top(np.linspace(0, 0.8, 128)),\n",
    "                       bottom(np.linspace(0, 0.2, 128))))# create a new colormaps with a name of OrangeBlue\n",
    "Bella = ListedColormap(newcolors, name='Bella')"
   ]
  },
  {
   "cell_type": "code",
   "execution_count": 41,
   "id": "375b5a4c-a5e9-47ed-a3e7-70ae7a12a20e",
   "metadata": {},
   "outputs": [
    {
     "data": {
      "image/png": "[encoded data removed]",
      "text/plain": [
       "<Figure size 432x288 with 1 Axes>"
      ]
     },
     "metadata": {
      "needs_background": "light"
     },
     "output_type": "display_data"
    }
   ],
   "source": [
    "fig = plt.figure()\n",
    "ax = fig.add_axes([0.05, 0.80, 0.9, 0.1])\n",
    "\n",
    "cb = mpl.colorbar.ColorbarBase(ax, orientation='horizontal', \n",
    "                               cmap=top)"
   ]
  },
  {
   "cell_type": "code",
   "execution_count": 40,
   "id": "713a697a-0b90-4584-bf5a-a2052b358e4b",
   "metadata": {},
   "outputs": [
    {
     "data": {
      "image/png": "[encoded data removed]",
      "text/plain": [
       "<Figure size 432x288 with 1 Axes>"
      ]
     },
     "metadata": {
      "needs_background": "light"
     },
     "output_type": "display_data"
    }
   ],
   "source": [
    "fig = plt.figure()\n",
    "ax = fig.add_axes([0.05, 0.80, 0.9, 0.1])\n",
    "\n",
    "cb = mpl.colorbar.ColorbarBase(ax, orientation='horizontal', \n",
    "                               cmap=bottom)"
   ]
  },
  {
   "cell_type": "code",
   "execution_count": 36,
   "id": "7884aa7e-e3df-44e0-9ac4-48ab2574daec",
   "metadata": {},
   "outputs": [
    {
     "data": {
      "image/png": "[encoded data removed]",
      "text/plain": [
       "<Figure size 432x288 with 1 Axes>"
      ]
     },
     "metadata": {
      "needs_background": "light"
     },
     "output_type": "display_data"
    }
   ],
   "source": [
    "fig = plt.figure()\n",
    "ax = fig.add_axes([0.05, 0.80, 0.9, 0.1])\n",
    "\n",
    "cb = mpl.colorbar.ColorbarBase(ax, orientation='horizontal', \n",
    "                               cmap=Bella)\n",
    "\n",
    "plt.savefig('just_colorbar', bbox_inches='tight')"
   ]
  },
  {
   "cell_type": "code",
   "execution_count": 56,
   "id": "24e068b1-c102-4cdf-9cb6-0dd8f3095cc0",
   "metadata": {},
   "outputs": [],
   "source": [
    "#5 combining colors"
   ]
  },
  {
   "cell_type": "code",
   "execution_count": 54,
   "id": "872bf427-0234-4f95-810f-1968ee14d0c6",
   "metadata": {},
   "outputs": [],
   "source": [
    "import matplotlib.colors\n",
    "Bella2 = matplotlib.colors.LinearSegmentedColormap.from_list(\"\", [\"Blue\",\"deepskyblue\",'limegreen','yellow','orange','red','purple'])"
   ]
  },
  {
   "cell_type": "code",
   "execution_count": 55,
   "id": "7d817329-770c-4b68-ba9a-b8a9d6459e46",
   "metadata": {},
   "outputs": [
    {
     "data": {
      "image/png": "[encoded data removed]",
      "text/plain": [
       "<Figure size 432x288 with 1 Axes>"
      ]
     },
     "metadata": {
      "needs_background": "light"
     },
     "output_type": "display_data"
    }
   ],
   "source": [
    "fig = plt.figure()\n",
    "ax = fig.add_axes([0.05, 0.80, 0.9, 0.1])\n",
    "\n",
    "cb = mpl.colorbar.ColorbarBase(ax, orientation='horizontal', \n",
    "                               cmap=Bella2)\n",
    "\n",
    "plt.savefig('just_colorbar', bbox_inches='tight')"
   ]
  },
  {
   "cell_type": "code",
   "execution_count": null,
   "id": "d6abb91e-4e26-43fc-8996-5a15c1ea37ea",
   "metadata": {},
   "outputs": [],
   "source": []
  }
 ],
 "metadata": {
  "kernelspec": {
   "display_name": "ESMValTool (based on the latest module esmvaltool)",
   "language": "python",
   "name": "esmvaltool"
  },
  "language_info": {
   "codemirror_mode": {
    "name": "ipython",
    "version": 3
   },
   "file_extension": ".py",
   "mimetype": "text/x-python",
   "name": "python",
   "nbconvert_exporter": "python",
   "pygments_lexer": "ipython3",
   "version": "3.10.12"
  }
 },
 "nbformat": 4,
 "nbformat_minor": 5
}
